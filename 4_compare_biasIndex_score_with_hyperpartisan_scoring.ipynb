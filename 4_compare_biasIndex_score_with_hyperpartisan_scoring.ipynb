{
 "cells": [
  {
   "cell_type": "code",
   "execution_count": 1,
   "metadata": {},
   "outputs": [],
   "source": [
    "import pandas as pd\n",
    "from sklearn.metrics import classification_report"
   ]
  },
  {
   "cell_type": "code",
   "execution_count": 2,
   "metadata": {},
   "outputs": [
    {
     "name": "stdout",
     "output_type": "stream",
     "text": [
      "         id hyperpartisan          bias\n",
      "0   0000017         false   left-center\n",
      "1   0000023          true         right\n",
      "2   0000029          true          left\n",
      "3   0000032          true         right\n",
      "4   0000037         false  right-center\n",
      "5   0000070          true          left\n",
      "6   0000077         false   left-center\n",
      "7   0000079         false         least\n",
      "8   0000092          true         right\n",
      "9   0000101          true         right\n",
      "10  0000144         false   left-center\n",
      "11  0000175          true         right\n",
      "12  0000177          true         right\n",
      "13  0000195         false         least\n",
      "14  0000202          true          left\n",
      "15  0000217         false   left-center\n",
      "16  0000226         false   left-center\n",
      "17  0000232         false   left-center\n",
      "18  0000233          true         right\n",
      "19  0000242          true          left\n",
      "20  0000250          true          left\n",
      "21  0000254         false         least\n",
      "22  0000255          true          left\n",
      "23  0000280         false         least\n",
      "24  0000281          true          left\n",
      "25  0000282          true         right\n",
      "26  0000283         false         least\n",
      "27  0000292          true         right\n",
      "28  0000301          true          left\n",
      "29  0000305         false         least\n",
      "\n",
      "true     75000\n",
      "false    75000\n",
      "Name: hyperpartisan, dtype: int64\n"
     ]
    }
   ],
   "source": [
    "# From 2_collect_ground_truth_partisanship_annotations_to_dataframe.ipynb\n",
    "ground_truth = pd.read_pickle(\"partisanship_annotated_article_ids.pickle\")\n",
    "print(ground_truth.head(30))\n",
    "print()\n",
    "print(ground_truth.hyperpartisan.value_counts())"
   ]
  },
  {
   "cell_type": "code",
   "execution_count": 3,
   "metadata": {},
   "outputs": [
    {
     "name": "stdout",
     "output_type": "stream",
     "text": [
      "        id         bias\n",
      "0  0000017  Diversified\n",
      "1  0000023  Diversified\n",
      "2  0000029  Diversified\n",
      "\n",
      "Diversified    126301\n",
      "Focused         18335\n",
      "Dispersed        5035\n",
      "Biased            329\n",
      "Name: bias, dtype: int64\n"
     ]
    }
   ],
   "source": [
    "discoursebias = pd.read_pickle(\"biasindex_scored_paragraphed_article_validation_bypublisher_20181122.pickle\")\n",
    "print(discoursebias.head(3))\n",
    "print()\n",
    "print(discoursebias.bias.value_counts())"
   ]
  },
  {
   "cell_type": "code",
   "execution_count": 4,
   "metadata": {},
   "outputs": [],
   "source": [
    "def calc_hyperpartisanish(bias):\n",
    "    hyperpartisanish = None\n",
    "    if bias == \"Dispersed\" or bias == \"Diversified\":\n",
    "        hyperpartisanish = \"false\" # hyperpartisan true or false\n",
    "    else:\n",
    "        hyperpartisanish = \"true\" # hyperpartisan true or false\n",
    "    return hyperpartisanish"
   ]
  },
  {
   "cell_type": "code",
   "execution_count": 5,
   "metadata": {},
   "outputs": [
    {
     "name": "stdout",
     "output_type": "stream",
     "text": [
      "false    131336\n",
      "true      18664\n",
      "Name: hyperpartisanish, dtype: int64\n"
     ]
    }
   ],
   "source": [
    "discoursebias[\"hyperpartisanish\"] = discoursebias.bias.apply(calc_hyperpartisanish)\n",
    "print(discoursebias.hyperpartisanish.value_counts())"
   ]
  },
  {
   "cell_type": "code",
   "execution_count": 6,
   "metadata": {},
   "outputs": [],
   "source": [
    "discoursebias[\"hyperpartisan_gt\"] = ground_truth[\"hyperpartisan\"] # column hyperpartisan_gt is ground truth"
   ]
  },
  {
   "cell_type": "code",
   "execution_count": 16,
   "metadata": {},
   "outputs": [],
   "source": [
    "result = classification_report(discoursebias[\"hyperpartisanish\"],discoursebias[\"hyperpartisan_gt\"])"
   ]
  },
  {
   "cell_type": "code",
   "execution_count": 17,
   "metadata": {},
   "outputs": [
    {
     "name": "stdout",
     "output_type": "stream",
     "text": [
      "              precision    recall  f1-score   support\n",
      "\n",
      "       false       0.83      0.47      0.60    131336\n",
      "        true       0.08      0.32      0.13     18664\n",
      "\n",
      "   micro avg       0.45      0.45      0.45    150000\n",
      "   macro avg       0.45      0.40      0.37    150000\n",
      "weighted avg       0.74      0.45      0.54    150000\n",
      "\n"
     ]
    }
   ],
   "source": [
    "print(result)"
   ]
  },
  {
   "cell_type": "markdown",
   "metadata": {},
   "source": [
    "Since the above method assumes that the two middle scores, \"Diversified\" and \"Focused\" respectively, are also indicators of partisanship, we also look at only the extreme scores \"Dispersed\" and \"Biased\" respectively to see if the results improve. "
   ]
  },
  {
   "cell_type": "code",
   "execution_count": 29,
   "metadata": {},
   "outputs": [
    {
     "data": {
      "text/html": [
       "<div>\n",
       "<style scoped>\n",
       "    .dataframe tbody tr th:only-of-type {\n",
       "        vertical-align: middle;\n",
       "    }\n",
       "\n",
       "    .dataframe tbody tr th {\n",
       "        vertical-align: top;\n",
       "    }\n",
       "\n",
       "    .dataframe thead th {\n",
       "        text-align: right;\n",
       "    }\n",
       "</style>\n",
       "<table border=\"1\" class=\"dataframe\">\n",
       "  <thead>\n",
       "    <tr style=\"text-align: right;\">\n",
       "      <th></th>\n",
       "      <th>id</th>\n",
       "      <th>bias</th>\n",
       "      <th>hyperpartisanish</th>\n",
       "      <th>hyperpartisan_gt</th>\n",
       "    </tr>\n",
       "  </thead>\n",
       "  <tbody>\n",
       "    <tr>\n",
       "      <th>20</th>\n",
       "      <td>0000250</td>\n",
       "      <td>Biased</td>\n",
       "      <td>true</td>\n",
       "      <td>true</td>\n",
       "    </tr>\n",
       "    <tr>\n",
       "      <th>56</th>\n",
       "      <td>0000527</td>\n",
       "      <td>Dispersed</td>\n",
       "      <td>false</td>\n",
       "      <td>true</td>\n",
       "    </tr>\n",
       "    <tr>\n",
       "      <th>97</th>\n",
       "      <td>0000870</td>\n",
       "      <td>Dispersed</td>\n",
       "      <td>false</td>\n",
       "      <td>true</td>\n",
       "    </tr>\n",
       "    <tr>\n",
       "      <th>100</th>\n",
       "      <td>0000888</td>\n",
       "      <td>Dispersed</td>\n",
       "      <td>false</td>\n",
       "      <td>true</td>\n",
       "    </tr>\n",
       "    <tr>\n",
       "      <th>125</th>\n",
       "      <td>0001071</td>\n",
       "      <td>Dispersed</td>\n",
       "      <td>false</td>\n",
       "      <td>true</td>\n",
       "    </tr>\n",
       "  </tbody>\n",
       "</table>\n",
       "</div>"
      ],
      "text/plain": [
       "          id       bias hyperpartisanish hyperpartisan_gt\n",
       "20   0000250     Biased             true             true\n",
       "56   0000527  Dispersed            false             true\n",
       "97   0000870  Dispersed            false             true\n",
       "100  0000888  Dispersed            false             true\n",
       "125  0001071  Dispersed            false             true"
      ]
     },
     "execution_count": 29,
     "metadata": {},
     "output_type": "execute_result"
    }
   ],
   "source": [
    "only_extremes = discoursebias[(discoursebias.bias == \"Biased\") | (discoursebias.bias == \"Dispersed\")]\n",
    "only_extremes.head(5)"
   ]
  },
  {
   "cell_type": "code",
   "execution_count": 30,
   "metadata": {},
   "outputs": [],
   "source": [
    "res2 = classification_report(only_extremes[\"hyperpartisanish\"], only_extremes[\"hyperpartisan_gt\"])"
   ]
  },
  {
   "cell_type": "code",
   "execution_count": 31,
   "metadata": {},
   "outputs": [
    {
     "name": "stdout",
     "output_type": "stream",
     "text": [
      "              precision    recall  f1-score   support\n",
      "\n",
      "       false       0.91      0.55      0.68      5035\n",
      "        true       0.03      0.20      0.05       329\n",
      "\n",
      "   micro avg       0.52      0.52      0.52      5364\n",
      "   macro avg       0.47      0.37      0.37      5364\n",
      "weighted avg       0.86      0.52      0.64      5364\n",
      "\n"
     ]
    }
   ],
   "source": [
    "print(res2)"
   ]
  }
 ],
 "metadata": {
  "kernelspec": {
   "display_name": "Python 3",
   "language": "python",
   "name": "python3"
  },
  "language_info": {
   "codemirror_mode": {
    "name": "ipython",
    "version": 3
   },
   "file_extension": ".py",
   "mimetype": "text/x-python",
   "name": "python",
   "nbconvert_exporter": "python",
   "pygments_lexer": "ipython3",
   "version": "3.6.7"
  }
 },
 "nbformat": 4,
 "nbformat_minor": 2
}
