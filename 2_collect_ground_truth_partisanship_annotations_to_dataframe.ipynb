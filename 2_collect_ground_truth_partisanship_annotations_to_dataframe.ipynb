{
 "cells": [
  {
   "cell_type": "code",
   "execution_count": 2,
   "metadata": {},
   "outputs": [],
   "source": [
    "import pandas as pd\n",
    "import os\n",
    "import getopt\n",
    "import xml.sax\n",
    "import lxml.sax\n",
    "import lxml.etree\n",
    "import re\n",
    "import json"
   ]
  },
  {
   "cell_type": "code",
   "execution_count": 19,
   "metadata": {},
   "outputs": [],
   "source": [
    "ids = []\n",
    "hyperpartisans = []\n",
    "biases = []"
   ]
  },
  {
   "cell_type": "code",
   "execution_count": 12,
   "metadata": {},
   "outputs": [],
   "source": [
    "########## SAX FOR STREAM PARSING ##########\n",
    "class HyperpartisanNewsTFExtractor(xml.sax.ContentHandler):\n",
    "    def __init__(self):\n",
    "        xml.sax.ContentHandler.__init__(self)\n",
    "        self.lxmlhandler = \"undefined\"\n",
    "\n",
    "    def startElement(self, name, attrs):\n",
    "        if name != \"articles\":\n",
    "            if name == \"article\":\n",
    "                self.lxmlhandler = lxml.sax.ElementTreeContentHandler()\n",
    "\n",
    "            self.lxmlhandler.startElement(name, attrs)\n",
    "\n",
    "    def characters(self, data):\n",
    "        if self.lxmlhandler != \"undefined\":\n",
    "            self.lxmlhandler.characters(data)\n",
    "\n",
    "    def endElement(self, name):\n",
    "        if self.lxmlhandler != \"undefined\":\n",
    "            self.lxmlhandler.endElement(name)\n",
    "            if name == \"article\":\n",
    "                # pass to handleArticle function\n",
    "                handleArticle(self.lxmlhandler.etree.getroot())\n",
    "                self.lxmlhandler = \"undefined\""
   ]
  },
  {
   "cell_type": "code",
   "execution_count": 13,
   "metadata": {},
   "outputs": [],
   "source": [
    "########## ARTICLE HANDLING ##########\n",
    "def handleArticle(article):\n",
    "    hyperpartisan = article.get(\"hyperpartisan\")\n",
    "    id_str = article.get(\"id\")\n",
    "    bias = article.get(\"bias\")\n",
    "\n",
    "    hyperpartisans.append(hyperpartisan)\n",
    "    ids.append(id_str)\n",
    "    biases.append(bias)"
   ]
  },
  {
   "cell_type": "code",
   "execution_count": 20,
   "metadata": {},
   "outputs": [],
   "source": [
    "with open(\"data/ground-truth-validation-bypublisher-20181122.xml\", 'r') as inputRunFile:\n",
    "    parser = xml.sax.make_parser()\n",
    "    parser.setContentHandler(HyperpartisanNewsTFExtractor())\n",
    "    source = xml.sax.xmlreader.InputSource()\n",
    "    source.setByteStream(inputRunFile)\n",
    "    source.setEncoding(\"utf-8\")\n",
    "    parser.parse(source)\n",
    "    \n",
    "    df = pd.DataFrame({\"id\":ids,\n",
    "                      \"hyperpartisan\":hyperpartisans,\n",
    "                      \"bias\":biases})\n",
    "    df.to_pickle(\"partisanship_annotated_article_ids.pickle\")"
   ]
  },
  {
   "cell_type": "code",
   "execution_count": 21,
   "metadata": {},
   "outputs": [
    {
     "name": "stdout",
     "output_type": "stream",
     "text": [
      "<class 'pandas.core.frame.DataFrame'>\n",
      "RangeIndex: 150000 entries, 0 to 149999\n",
      "Data columns (total 3 columns):\n",
      "id               150000 non-null object\n",
      "hyperpartisan    150000 non-null object\n",
      "bias             150000 non-null object\n",
      "dtypes: object(3)\n",
      "memory usage: 3.4+ MB\n"
     ]
    }
   ],
   "source": [
    "df.info()"
   ]
  },
  {
   "cell_type": "code",
   "execution_count": 22,
   "metadata": {},
   "outputs": [
    {
     "data": {
      "text/html": [
       "<div>\n",
       "<style scoped>\n",
       "    .dataframe tbody tr th:only-of-type {\n",
       "        vertical-align: middle;\n",
       "    }\n",
       "\n",
       "    .dataframe tbody tr th {\n",
       "        vertical-align: top;\n",
       "    }\n",
       "\n",
       "    .dataframe thead th {\n",
       "        text-align: right;\n",
       "    }\n",
       "</style>\n",
       "<table border=\"1\" class=\"dataframe\">\n",
       "  <thead>\n",
       "    <tr style=\"text-align: right;\">\n",
       "      <th></th>\n",
       "      <th>id</th>\n",
       "      <th>hyperpartisan</th>\n",
       "      <th>bias</th>\n",
       "    </tr>\n",
       "  </thead>\n",
       "  <tbody>\n",
       "    <tr>\n",
       "      <th>0</th>\n",
       "      <td>0000017</td>\n",
       "      <td>false</td>\n",
       "      <td>left-center</td>\n",
       "    </tr>\n",
       "    <tr>\n",
       "      <th>1</th>\n",
       "      <td>0000023</td>\n",
       "      <td>true</td>\n",
       "      <td>right</td>\n",
       "    </tr>\n",
       "    <tr>\n",
       "      <th>2</th>\n",
       "      <td>0000029</td>\n",
       "      <td>true</td>\n",
       "      <td>left</td>\n",
       "    </tr>\n",
       "    <tr>\n",
       "      <th>3</th>\n",
       "      <td>0000032</td>\n",
       "      <td>true</td>\n",
       "      <td>right</td>\n",
       "    </tr>\n",
       "    <tr>\n",
       "      <th>4</th>\n",
       "      <td>0000037</td>\n",
       "      <td>false</td>\n",
       "      <td>right-center</td>\n",
       "    </tr>\n",
       "  </tbody>\n",
       "</table>\n",
       "</div>"
      ],
      "text/plain": [
       "        id hyperpartisan          bias\n",
       "0  0000017         false   left-center\n",
       "1  0000023          true         right\n",
       "2  0000029          true          left\n",
       "3  0000032          true         right\n",
       "4  0000037         false  right-center"
      ]
     },
     "execution_count": 22,
     "metadata": {},
     "output_type": "execute_result"
    }
   ],
   "source": [
    "df.head()"
   ]
  },
  {
   "cell_type": "code",
   "execution_count": null,
   "metadata": {},
   "outputs": [],
   "source": []
  }
 ],
 "metadata": {
  "kernelspec": {
   "display_name": "Python 3",
   "language": "python",
   "name": "python3"
  },
  "language_info": {
   "codemirror_mode": {
    "name": "ipython",
    "version": 3
   },
   "file_extension": ".py",
   "mimetype": "text/x-python",
   "name": "python",
   "nbconvert_exporter": "python",
   "pygments_lexer": "ipython3",
   "version": "3.7.2"
  }
 },
 "nbformat": 4,
 "nbformat_minor": 2
}
