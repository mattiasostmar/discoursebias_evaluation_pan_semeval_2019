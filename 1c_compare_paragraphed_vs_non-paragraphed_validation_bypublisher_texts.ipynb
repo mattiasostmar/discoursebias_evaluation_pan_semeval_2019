{
 "cells": [
  {
   "cell_type": "code",
   "execution_count": 12,
   "metadata": {},
   "outputs": [],
   "source": [
    "import pandas as pd\n",
    "from sklearn.metrics import classification_report"
   ]
  },
  {
   "cell_type": "code",
   "execution_count": 7,
   "metadata": {},
   "outputs": [
    {
     "name": "stdout",
     "output_type": "stream",
     "text": [
      "paras:         id         bias\n",
      "0  0000017  Diversified\n",
      "1  0000023  Diversified\n",
      "2  0000029  Diversified\n",
      "unparas:         id         bias\n",
      "0  0000017  Diversified\n",
      "1  0000023  Diversified\n",
      "2  0000029  Diversified\n"
     ]
    }
   ],
   "source": [
    "paras = pd.read_pickle(\"paragraphed_article_validation_bypublisher_20181122.pickle\")\n",
    "print(\"paras: {}\".format(paras.head(3)))\n",
    "paras.columns = [\"id\",\"paras_bias\"]\n",
    "unparas = pd.read_pickle(\"unparagraphed_article_validation_bypublisher_20181122.pickle\")\n",
    "print(\"unparas: {}\".format(unparas.head(3)))\n",
    "unparas.columns = [\"id\",\"unparas_bias\"]"
   ]
  },
  {
   "cell_type": "code",
   "execution_count": 10,
   "metadata": {},
   "outputs": [
    {
     "data": {
      "text/html": [
       "<div>\n",
       "<style scoped>\n",
       "    .dataframe tbody tr th:only-of-type {\n",
       "        vertical-align: middle;\n",
       "    }\n",
       "\n",
       "    .dataframe tbody tr th {\n",
       "        vertical-align: top;\n",
       "    }\n",
       "\n",
       "    .dataframe thead th {\n",
       "        text-align: right;\n",
       "    }\n",
       "</style>\n",
       "<table border=\"1\" class=\"dataframe\">\n",
       "  <thead>\n",
       "    <tr style=\"text-align: right;\">\n",
       "      <th></th>\n",
       "      <th>id</th>\n",
       "      <th>paras_bias</th>\n",
       "      <th>unparas_bias</th>\n",
       "    </tr>\n",
       "  </thead>\n",
       "  <tbody>\n",
       "    <tr>\n",
       "      <th>0</th>\n",
       "      <td>0000017</td>\n",
       "      <td>Diversified</td>\n",
       "      <td>Diversified</td>\n",
       "    </tr>\n",
       "    <tr>\n",
       "      <th>1</th>\n",
       "      <td>0000023</td>\n",
       "      <td>Diversified</td>\n",
       "      <td>Diversified</td>\n",
       "    </tr>\n",
       "    <tr>\n",
       "      <th>2</th>\n",
       "      <td>0000029</td>\n",
       "      <td>Diversified</td>\n",
       "      <td>Diversified</td>\n",
       "    </tr>\n",
       "  </tbody>\n",
       "</table>\n",
       "</div>"
      ],
      "text/plain": [
       "        id   paras_bias unparas_bias\n",
       "0  0000017  Diversified  Diversified\n",
       "1  0000023  Diversified  Diversified\n",
       "2  0000029  Diversified  Diversified"
      ]
     },
     "execution_count": 10,
     "metadata": {},
     "output_type": "execute_result"
    }
   ],
   "source": [
    "merged = pd.merge(paras, unparas, how=\"inner\")\n",
    "merged.head(3)"
   ]
  },
  {
   "cell_type": "code",
   "execution_count": 14,
   "metadata": {},
   "outputs": [
    {
     "name": "stdout",
     "output_type": "stream",
     "text": [
      "              precision    recall  f1-score   support\n",
      "\n",
      "      Biased       1.00      1.00      1.00       329\n",
      "   Dispersed       1.00      1.00      1.00      5035\n",
      " Diversified       1.00      1.00      1.00    126301\n",
      "     Focused       1.00      1.00      1.00     18335\n",
      "\n",
      "   micro avg       1.00      1.00      1.00    150000\n",
      "   macro avg       1.00      1.00      1.00    150000\n",
      "weighted avg       1.00      1.00      1.00    150000\n",
      "\n"
     ]
    }
   ],
   "source": [
    "results = classification_report(merged[\"paras_bias\"],merged[\"unparas_bias\"])\n",
    "print(results)"
   ]
  },
  {
   "cell_type": "code",
   "execution_count": null,
   "metadata": {},
   "outputs": [],
   "source": []
  }
 ],
 "metadata": {
  "kernelspec": {
   "display_name": "Python 3",
   "language": "python",
   "name": "python3"
  },
  "language_info": {
   "codemirror_mode": {
    "name": "ipython",
    "version": 3
   },
   "file_extension": ".py",
   "mimetype": "text/x-python",
   "name": "python",
   "nbconvert_exporter": "python",
   "pygments_lexer": "ipython3",
   "version": "3.7.2"
  }
 },
 "nbformat": 4,
 "nbformat_minor": 2
}
